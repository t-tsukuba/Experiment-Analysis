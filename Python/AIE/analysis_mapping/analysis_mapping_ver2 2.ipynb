{
 "cells": [
  {
   "cell_type": "code",
   "execution_count": null,
   "metadata": {
    "ExecuteTime": {
     "end_time": "2023-07-15T02:22:56.501694Z",
     "start_time": "2023-07-15T02:22:56.453811Z"
    },
    "tags": []
   },
   "outputs": [],
   "source": [
    "import pandas as pd\n",
    "import numpy as np\n",
    "import math\n",
    "import csv\n",
    "import glob\n",
    "import re\n",
    "import matplotlib.pyplot as plt\n",
    "import matplotlib.cm as cm\n",
    "import os\n",
    "import itertools\n",
    "from matplotlib.colors import Normalize\n",
    "from matplotlib.cm import ScalarMappable\n",
    "from natsort import natsorted\n",
    "import sklearn\n",
    "from sklearn.decomposition import NMF\n",
    "from sklearn.decomposition import PCA"
   ]
  },
  {
   "cell_type": "code",
   "execution_count": null,
   "metadata": {
    "ExecuteTime": {
     "end_time": "2023-07-15T02:22:57.239932Z",
     "start_time": "2023-07-15T02:22:57.177449Z"
    },
    "tags": []
   },
   "outputs": [],
   "source": [
    "class Data:\n",
    "    def __init__(self, path):\n",
    "        self.path = path\n",
    "        self.dirs = natsorted(os.listdir(self.path))\n",
    "\n",
    "    def get_files(self):\n",
    "        files_list = []\n",
    "        fileslength = []\n",
    "        for f1 in self.dirs:\n",
    "            # 対象がフォルダである場合にTrueが返り、if文内が実行される\n",
    "            if os.path.isdir(os.path.join(self.path, f1)):\n",
    "                for f2 in os.listdir(os.path.join(self.path, f1)):\n",
    "                    if os.path.isdir(os.path.join(self.path, f1, f2)):\n",
    "                        files = list(\n",
    "                            natsorted(\n",
    "                                glob.glob(os.path.join(self.path, f1, f2, \"*.irr\"))\n",
    "                            )\n",
    "                        )\n",
    "                        if bool(files) == True:  # 空リスト除外\n",
    "                            files_list.append(files[:-1])\n",
    "                            fileslength.append(len(files[:-1]))\n",
    "                else:\n",
    "                    files = list(\n",
    "                        natsorted(glob.glob(os.path.join(cur_dir, f1, \"*.irr\")))\n",
    "                    )\n",
    "                    if bool(files) == True:  # 空リスト除外\n",
    "                        files_list.append(files[:-1])\n",
    "                        fileslength.append(len(files[:-1]))\n",
    "        fileslength = [x for x in fileslength if x != 0]\n",
    "        return files_list, fileslength\n",
    "\n",
    "    def get_dataframe(self):\n",
    "        files_list, fileslength = self.get_files()\n",
    "        df_list = []\n",
    "        AREA = []\n",
    "        for n, files in enumerate(files_list):\n",
    "            dfs = []\n",
    "            for i, file in enumerate(files):\n",
    "                DF = pd.read_csv(file, header=None, sep=\" \", skiprows=1)\n",
    "                AREA.append(sum(DF.iloc[:, 3]))\n",
    "                # dfs.append(DF.iloc[:,3] / AREA[n])\n",
    "                dfs.append(DF.iloc[:, 3])\n",
    "\n",
    "            df = pd.concat(dfs, axis=1)\n",
    "            df = df.T\n",
    "            df = df.rename(columns=lambda s: 1 / (271 + 0.5 * s) * 10**7)\n",
    "            df = df.reset_index(drop=True)\n",
    "            df = df.fillna(0)\n",
    "            df_list.append(df)\n",
    "        return df_list, AREA\n",
    "\n",
    "\n",
    "def cos_sim(v1, v2):\n",
    "    return np.dot(v1, v2) / (np.linalg.norm(v1) * np.linalg.norm(v2))\n",
    "\n",
    "\n",
    "class CreateZ:\n",
    "    def __init__(self, fileslength, x_step, x_distance, y_distance):\n",
    "        self.fileslength = fileslength\n",
    "        self.x_step = x_step\n",
    "        self.x_distance = x_distance\n",
    "        self.y_distance = y_distance\n",
    "        self.y_step = [int(i / x_step) for i in fileslength]\n",
    "\n",
    "    def meshgrid(self):\n",
    "        X_list = []\n",
    "        Y_list = []\n",
    "        for n, length in enumerate(self.fileslength):\n",
    "            x = np.arange(0, self.y_step[n] * self.y_distance, self.y_distance)\n",
    "            y = np.arange(0, self.x_step * self.x_distance, self.x_distance)\n",
    "            X, Y = np.meshgrid(x, y)\n",
    "            X_list.append(X)\n",
    "            Y_list.append(Y)\n",
    "        return X_list, Y_list\n",
    "\n",
    "    def z_intensity(self, df_list, av_spec, X_list, Y_list, min_AREA, min_sim):\n",
    "        x_step = self.x_step\n",
    "        y_step = self.y_step\n",
    "        Z_list = []\n",
    "        for n in range(len(X_list)):\n",
    "            Z = np.zeros([x_step, y_step[n]])\n",
    "            for i in range(x_step):\n",
    "                for j in range(y_step[n]):\n",
    "                    if (\n",
    "                        sum(df_list[n].iloc[i + j * x_step]) < min_AREA\n",
    "                        or cos_sim(df_list[n].iloc[i + j * x_step], av_spec) < min_sim\n",
    "                    ):  # スペクトル強度とcos類似度の閾値以下のスペクトルは除外\n",
    "                        Z[i, j] = np.nan\n",
    "                    else:\n",
    "                        Z[i, j] = sum(df_list[n].iloc[i + j * x_step])\n",
    "            Z_list.append(Z)\n",
    "        return Z_list\n",
    "\n",
    "    def z_phi(self, df_list, av_spec, X_list, Y_list, phi, min_AREA, min_sim):\n",
    "        x_step = self.x_step\n",
    "        y_step = self.y_step\n",
    "        Z_phi_list = []\n",
    "        for n in range(len(X_list)):\n",
    "            Z = np.zeros([x_step, y_step[n]])\n",
    "            for i in range(x_step):\n",
    "                for j in range(y_step[n]):\n",
    "                    if (\n",
    "                        sum(df_list[n].iloc[i + j * x_step]) < min_AREA\n",
    "                        or cos_sim(df_list[n].iloc[i + j * x_step], av_spec) < min_sim\n",
    "                    ):  # スペクトルなしと変なスペクトル除外\n",
    "                        Z[i, j] = np.nan\n",
    "                    else:\n",
    "                        Z[i, j] = phi_list[n][i + j * x_step]\n",
    "            Z_phi_list.append(Z)\n",
    "        return Z_phi_list\n",
    "\n",
    "\n",
    "def mesh_plot(X, Y, Z, label, dirs, N=False, vmin=[0], vmax=[1]):\n",
    "    fig = plt.figure(figsize=(25, 4 * len(X)))\n",
    "    plt.subplots_adjust(wspace=0.05)\n",
    "    for i in range(len(X)):\n",
    "        ax = fig.add_subplot(len(X), 3, i + 1)\n",
    "        if N == False:\n",
    "            norm = Normalize(\n",
    "                vmin=min(Z[i].reshape(-1, 1))[0], vmax=max(Z[i].reshape(-1, 1))[0]\n",
    "            )\n",
    "        else:\n",
    "            norm = Normalize(vmin=vmin[i], vmax=vmax[i])\n",
    "        ax.pcolormesh(\n",
    "            X[i],\n",
    "            Y[i],\n",
    "            Z[i],\n",
    "            cmap=\"rainbow\",\n",
    "            shading=\"gouraud\",\n",
    "            norm=norm,\n",
    "        )\n",
    "        ax.set_title(dirs[i], size=20)\n",
    "        ax.set_xticks(np.arange(0, len(Y[i][0]) * y_distance, 2))\n",
    "        ax.grid(color=\"black\")\n",
    "        fig.colorbar(ScalarMappable(cmap=\"rainbow\", norm=norm), ax=ax).set_label(\n",
    "            label, size=20\n",
    "        )\n",
    "    plt.show()\n",
    "\n",
    "\n",
    "class Chemometrics:\n",
    "    def __init__(self, df):\n",
    "        self.df = df\n",
    "\n",
    "    def NMF(self, components):\n",
    "        global model\n",
    "        model = NMF(n_components=components, max_iter=1000).fit(self.df)\n",
    "        loading = pd.DataFrame(model.components_, columns=self.df.columns)\n",
    "        score = pd.DataFrame(model.transform(self.df), index=self.df.index)\n",
    "        loading.columns = loading.columns.astype(float)\n",
    "\n",
    "        # loadingを面積1に規格化\n",
    "        for i in range(len(loading)):\n",
    "            A = loading.iloc[i].sum()\n",
    "            loading.iloc[i] = loading.iloc[i] / A\n",
    "            score.iloc[:, i] = score.iloc[:, i] * A\n",
    "\n",
    "        return loading, score\n",
    "\n",
    "\n",
    "def calculation_phi(loading, score, N):  # N:エキシマー発光の成分\n",
    "    excimer_area = [sum(loading.iloc[N] * score[N].iloc[i]) for i in range(len(score))]\n",
    "    re_spec = np.dot(score, loading)\n",
    "    all_area = [sum(re_spec[i]) for i in range(len(re_spec))]\n",
    "    phi = [x / y for x, y in zip(excimer_area, all_area)]\n",
    "    return phi"
   ]
  },
  {
   "cell_type": "code",
   "execution_count": null,
   "metadata": {
    "ExecuteTime": {
     "end_time": "2023-07-15T02:22:58.464412Z",
     "start_time": "2023-07-15T02:22:57.993398Z"
    },
    "collapsed": true,
    "jupyter": {
     "outputs_hidden": true
    },
    "tags": []
   },
   "outputs": [],
   "source": [
    "# cur_dir = os.getcwd()  # カレントディレクトリ取得\n",
    "cur_dir = \"/Users/yusuke/Desktop/解析/mapping/0714(混練ラウンドノッチ)\"\n",
    "dirs = natsorted(os.listdir(cur_dir))\n",
    "dirs"
   ]
  },
  {
   "cell_type": "code",
   "execution_count": null,
   "metadata": {
    "ExecuteTime": {
     "end_time": "2023-07-15T02:23:45.036534Z",
     "start_time": "2023-07-15T02:23:02.804416Z"
    },
    "scrolled": true,
    "tags": []
   },
   "outputs": [],
   "source": [
    "files_list, fileslength = Data(cur_dir).get_files()\n",
    "files_list, fileslength"
   ]
  },
  {
   "cell_type": "code",
   "execution_count": null,
   "metadata": {
    "ExecuteTime": {
     "end_time": "2023-07-15T02:25:57.060832Z",
     "start_time": "2023-07-15T02:25:53.316177Z"
    },
    "tags": []
   },
   "outputs": [],
   "source": [
    "df_list, AREA = Data(cur_dir).get_dataframe()\n",
    "df_list"
   ]
  },
  {
   "cell_type": "code",
   "execution_count": null,
   "metadata": {
    "ExecuteTime": {
     "end_time": "2023-07-15T02:30:01.997679Z",
     "start_time": "2023-07-15T02:29:55.064449Z"
    },
    "tags": []
   },
   "outputs": [],
   "source": [
    "fig, ax = plt.subplots(1, 3, figsize=(20, 4))\n",
    "\n",
    "av_spec = pd.concat(df_list).mean()  # 平均スペクトル\n",
    "\n",
    "sim = []\n",
    "for n, df in enumerate(df_list):\n",
    "    for i in range(0, len(df), 10):\n",
    "        ax[0].plot(df.iloc[i])\n",
    "        sim.append(cos_sim(df.iloc[i], av_spec))\n",
    "sim_av = np.average([x for x in sim if math.isnan(x) == False])  # cos_simの平均値\n",
    "\n",
    "ax[0].plot(av_spec, color=\"black\", lw=3)\n",
    "ax[0].set_xlim(23000, 17000)\n",
    "ax[1].plot(sim, marker=\"o\", linestyle=\"None\")\n",
    "ax[1].hlines(sim_av, 0, len(sim), \"black\", linestyles=\"dashed\")\n",
    "ax[1].set_ylabel(\"cos_sim\")\n",
    "ax[2].plot(AREA)\n",
    "ax[2].hlines(np.average(AREA), 0, len(AREA), \"black\", linestyles=\"dashed\")\n",
    "ax[2].set_ylabel(\"Sum of Intensity\")\n",
    "print(sim_av)"
   ]
  },
  {
   "cell_type": "code",
   "execution_count": null,
   "metadata": {
    "ExecuteTime": {
     "end_time": "2023-07-15T02:26:13.958867Z",
     "start_time": "2023-07-15T02:26:08.462553Z"
    },
    "scrolled": true,
    "tags": []
   },
   "outputs": [],
   "source": [
    "x_step = 16\n",
    "x_distance = 0.5\n",
    "y_distance = 0.5\n",
    "\n",
    "Z = CreateZ(fileslength, x_step, x_distance, y_distance)\n",
    "\n",
    "X_list, Y_list = Z.meshgrid()\n",
    "\n",
    "Z_intensity = Z.z_intensity(df_list, av_spec, X_list, Y_list, min_AREA=1, min_sim=0.5)"
   ]
  },
  {
   "cell_type": "code",
   "execution_count": null,
   "metadata": {
    "ExecuteTime": {
     "end_time": "2023-07-15T02:26:42.830194Z",
     "start_time": "2023-07-15T02:26:42.492315Z"
    },
    "scrolled": true,
    "tags": []
   },
   "outputs": [],
   "source": [
    "mesh_plot(X_list, Y_list, Z_intensity, \"Intensity\", dirs)"
   ]
  },
  {
   "cell_type": "code",
   "execution_count": null,
   "metadata": {
    "ExecuteTime": {
     "end_time": "2023-07-15T02:26:51.109021Z",
     "start_time": "2023-07-15T02:26:45.312028Z"
    },
    "tags": []
   },
   "outputs": [],
   "source": [
    "df_all = pd.concat(df_list)\n",
    "\n",
    "loading, score = Chemometrics(df_all).NMF(2)\n",
    "\n",
    "fig, ax = plt.subplots(1, 2, figsize=(15, 3))\n",
    "loading.T.plot(ax=ax[0], ylabel=\"Loadig\", xlim=(23000, 16000))\n",
    "score.plot(ax=ax[1], ylabel=\"Score\", marker=\"o\", linestyle=\"None\", fillstyle=\"none\")\n",
    "plt.show()"
   ]
  },
  {
   "cell_type": "code",
   "execution_count": null,
   "metadata": {
    "ExecuteTime": {
     "end_time": "2023-07-15T02:26:57.740559Z",
     "start_time": "2023-07-15T02:26:51.798568Z"
    },
    "scrolled": true,
    "tags": []
   },
   "outputs": [],
   "source": [
    "loading_list = []\n",
    "score_list = []\n",
    "for i in range(len(df_list)):\n",
    "    loading_list.append(loading)\n",
    "    if i == 0:\n",
    "        score_list.append(score.iloc[0 : fileslength[i]])\n",
    "    else:\n",
    "        score_list.append(score.iloc[sum(fileslength[:i]) : sum(fileslength[: i + 1])])\n",
    "\n",
    "phi_list = []\n",
    "for n in range(len(loading_list)):\n",
    "    phi_list.append(calculation_phi(loading_list[n], score_list[n], 1))"
   ]
  },
  {
   "cell_type": "code",
   "execution_count": null,
   "metadata": {
    "ExecuteTime": {
     "end_time": "2023-07-15T02:27:14.249676Z",
     "start_time": "2023-07-15T02:27:08.250658Z"
    },
    "tags": []
   },
   "outputs": [],
   "source": [
    "Z_phi = Z.z_phi(df_list, av_spec, X_list, Y_list, phi_list, min_AREA=1, min_sim=0.5)\n",
    "\n",
    "mesh_plot(X_list, Y_list, Z_phi, \"phi\", dirs[1:])"
   ]
  },
  {
   "cell_type": "code",
   "execution_count": null,
   "metadata": {
    "ExecuteTime": {
     "end_time": "2023-07-15T02:30:32.984319Z",
     "start_time": "2023-07-15T02:30:14.205700Z"
    },
    "tags": []
   },
   "outputs": [],
   "source": [
    "Y_center = [4, 4, 4, 4, 4, 4, 4, 4, 4, 4]  # 中心のY座標\n",
    "Y_center2 = [int(x / y_distance) for x in Y_center]  # distance考慮\n",
    "\n",
    "fig, ax = plt.subplots(4, 3, figsize=(20, 10))\n",
    "plt.subplots_adjust(wspace=0.3, hspace=0.5)\n",
    "\n",
    "dfc = []\n",
    "for n, Z in enumerate(Z_phi):\n",
    "    dfc.append(Z[Y_center2[n]])\n",
    "\n",
    "    ax[n // 3, n % 3].scatter(\n",
    "        [x * x_distance for x in range(len(Z[Y_center2[n]]))], Z[Y_center2[n]]\n",
    "    )\n",
    "    ax[n // 3, n % 3].set(\n",
    "        ylim=(0, 1), title=\"{0}\".format(dirs[n]), xlabel=\"X\", ylabel=\"phi\"\n",
    "    )\n",
    "plt.show()"
   ]
  },
  {
   "cell_type": "code",
   "execution_count": null,
   "metadata": {},
   "outputs": [],
   "source": []
  }
 ],
 "metadata": {
  "kernelspec": {
   "display_name": "Python 3 (ipykernel)",
   "language": "python",
   "name": "python3"
  },
  "language_info": {
   "codemirror_mode": {
    "name": "ipython",
    "version": 3
   },
   "file_extension": ".py",
   "mimetype": "text/x-python",
   "name": "python",
   "nbconvert_exporter": "python",
   "pygments_lexer": "ipython3",
   "version": "3.9.6"
  },
  "varInspector": {
   "cols": {
    "lenName": 16,
    "lenType": 16,
    "lenVar": 40
   },
   "kernels_config": {
    "python": {
     "delete_cmd_postfix": "",
     "delete_cmd_prefix": "del ",
     "library": "var_list.py",
     "varRefreshCmd": "print(var_dic_list())"
    },
    "r": {
     "delete_cmd_postfix": ") ",
     "delete_cmd_prefix": "rm(",
     "library": "var_list.r",
     "varRefreshCmd": "cat(var_dic_list()) "
    }
   },
   "position": {
    "height": "104.5px",
    "left": "922px",
    "right": "20px",
    "top": "33px",
    "width": "317.323px"
   },
   "types_to_exclude": [
    "module",
    "function",
    "builtin_function_or_method",
    "instance",
    "_Feature"
   ],
   "window_display": true
  }
 },
 "nbformat": 4,
 "nbformat_minor": 4
}
