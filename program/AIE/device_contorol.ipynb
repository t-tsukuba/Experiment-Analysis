{
 "cells": [
  {
   "cell_type": "code",
   "execution_count": null,
   "id": "ed9d72c7",
   "metadata": {},
   "outputs": [],
   "source": [
    "import numpy as np\n",
    "import matplotlib.pyplot as plt\n",
    "import time\n",
    "import datetime\n",
    "import sys\n",
    "import serial\n",
    "import ctypes\n",
    "\n",
    "dll = ctypes.CDLL(\n",
    "    R\"C:\\Users\\hyuuu\\AppData\\Local\\anaconda3\\Lib\\site-packages\\thorlabs_apt\\APT.dll\"\n",
    ")  # path通らないエラーを回避\n",
    "import thorlabs_apt as apt\n",
    "\n",
    "apt.list_available_devices()"
   ]
  },
  {
   "cell_type": "code",
   "execution_count": null,
   "id": "c8c87128",
   "metadata": {},
   "outputs": [],
   "source": [
    "motor_x = apt.Motor(83854985)\n",
    "motor_y = apt.Motor(83860510)\n",
    "\n",
    "motor_x.move_home(True)\n",
    "print(\"HOME: x\")\n",
    "motor_y.move_home(True)\n",
    "print(\"HOME: y\")\n",
    "tstamp = datetime.datetime.now()\n",
    "print(tstamp)"
   ]
  },
  {
   "cell_type": "code",
   "execution_count": null,
   "id": "61f88979",
   "metadata": {},
   "outputs": [],
   "source": [
    "def trigger():  # パルス波\n",
    "    serPort = serial.Serial(\"COM3\", 19200, timeout=1)\n",
    "\n",
    "    command = \"gpio set 7\\r\"  # High = 5 V  gpio set {} port number\n",
    "    serPort.write(command.encode())\n",
    "\n",
    "    time.sleep(0.1)\n",
    "\n",
    "    command = \"gpio clear 7\\r\"  # low = 0 V\n",
    "    serPort.write(command.encode())\n",
    "\n",
    "    tstamp = datetime.datetime.now()\n",
    "    print(\"triggered: \", tstamp)\n",
    "\n",
    "    serPort.close()"
   ]
  },
  {
   "cell_type": "code",
   "execution_count": null,
   "id": "2cf4a562",
   "metadata": {},
   "outputs": [],
   "source": [
    "dx = 1\n",
    "dy = 1\n",
    "step_x = 24\n",
    "step_y = 35"
   ]
  },
  {
   "cell_type": "code",
   "execution_count": null,
   "id": "1fbda096",
   "metadata": {},
   "outputs": [],
   "source": [
    "trigger()  # first"
   ]
  },
  {
   "cell_type": "code",
   "execution_count": null,
   "id": "6ef21e08",
   "metadata": {
    "scrolled": true
   },
   "outputs": [],
   "source": [
    "for i in range(step_y):\n",
    "    motor_x.move_to(0)\n",
    "    motor_y.move_to(i * dy)  # move_to:絶対値　move_by:相対値\n",
    "    tstamp = datetime.datetime.now()\n",
    "    print(\"y= \", i * dy, tstamp)\n",
    "\n",
    "    while motor_y.is_in_motion == True:\n",
    "        time.sleep(0.1)\n",
    "    #        tstamp = datetime.datetime.now()\n",
    "    #        print(\"waiting: \", tstamp)\n",
    "\n",
    "    for j in range(step_x):\n",
    "        motor_x.move_to(j * dx)\n",
    "        tstamp = datetime.datetime.now()\n",
    "        print(\"x= \", j * dx, tstamp)\n",
    "\n",
    "        while motor_x.is_in_motion == True:\n",
    "            time.sleep(0.1)\n",
    "\n",
    "        # time.sleep(0.2)\n",
    "        trigger()\n",
    "        if dx == 0.5:\n",
    "            time.sleep(1)  # 1@dx,dy=0.5, 2@dx,dy=1\n",
    "        elif dx == 1:\n",
    "            time.sleep(2)\n",
    "\n",
    "tstamp = datetime.datetime.now()\n",
    "print(\"Finished: \", i * dy, tstamp)\n",
    "\n",
    "motor_x.move_home(True)\n",
    "print(\"HOME: x\")\n",
    "motor_y.move_home(True)\n",
    "print(\"HOME: y\")\n",
    "tstamp = datetime.datetime.now()\n",
    "print(tstamp)"
   ]
  },
  {
   "cell_type": "code",
   "execution_count": null,
   "id": "bf59023d",
   "metadata": {},
   "outputs": [],
   "source": [
    "def trigger():  # パルス波\n",
    "    serPort = serial.Serial(\"COM3\", 19200, timeout=1)\n",
    "\n",
    "    command = \"gpio set 7\\r\"  # High = 5 V  gpio set {} port number\n",
    "    serPort.write(command.encode())\n",
    "\n",
    "    time.sleep(0.1)\n",
    "\n",
    "    command = \"gpio clear 7\\r\"  # low = 0 V\n",
    "    serPort.write(command.encode())\n",
    "\n",
    "    tstamp = datetime.datetime.now()\n",
    "    print(\"triggered: \", tstamp)\n",
    "\n",
    "    serPort.close()"
   ]
  },
  {
   "cell_type": "code",
   "execution_count": null,
   "id": "b1621eb9",
   "metadata": {},
   "outputs": [],
   "source": []
  },
  {
   "cell_type": "code",
   "execution_count": null,
   "id": "3feece2b",
   "metadata": {},
   "outputs": [],
   "source": [
    "for i in range(step_y):\n",
    "    motor_x.move_to(0)\n",
    "    motor_y.move_to(i * dy)  # move_to:絶対値　move_by:相対値\n",
    "    tstamp = datetime.datetime.now()\n",
    "    print(\"y= \", i * dy, tstamp)\n",
    "\n",
    "    while motor_y.is_in_motion == True:\n",
    "        time.sleep(0.5)\n",
    "    #        tstamp = datetime.datetime.now()\n",
    "    #        print(\"waiting: \", tstamp)\n",
    "\n",
    "    for j in range(step_x):\n",
    "        motor_x.move_to(j * dx)\n",
    "        tstamp = datetime.datetime.now()\n",
    "        print(\"x= \", j * dx, tstamp)\n",
    "\n",
    "        while motor_x.is_in_motion == True:\n",
    "            time.sleep(0.5)\n",
    "\n",
    "        # time.sleep(0.2)\n",
    "        trigger()\n",
    "        time.sleep(1)\n",
    "\n",
    "tstamp = datetime.datetime.now()\n",
    "print(\"Finished: \", i * dy, tstamp)\n",
    "\n",
    "motor_x.move_home(True)\n",
    "print(\"HOME: x\")\n",
    "motor_y.move_home(True)\n",
    "print(\"HOME: y\")\n",
    "tstamp = datetime.datetime.now()\n",
    "print(tstamp)"
   ]
  }
 ],
 "metadata": {
  "kernelspec": {
   "display_name": "Python 3 (ipykernel)",
   "language": "python",
   "name": "python3"
  },
  "language_info": {
   "codemirror_mode": {
    "name": "ipython",
    "version": 3
   },
   "file_extension": ".py",
   "mimetype": "text/x-python",
   "name": "python",
   "nbconvert_exporter": "python",
   "pygments_lexer": "ipython3",
   "version": "3.12.2"
  }
 },
 "nbformat": 4,
 "nbformat_minor": 5
}
