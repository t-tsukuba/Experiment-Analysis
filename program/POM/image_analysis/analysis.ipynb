{
 "cells": [
  {
   "cell_type": "code",
   "execution_count": null,
   "metadata": {},
   "outputs": [],
   "source": [
    "import matplotlib.pyplot as plt\n",
    "from binary import img_to_binary"
   ]
  },
  {
   "cell_type": "code",
   "execution_count": null,
   "metadata": {},
   "outputs": [],
   "source": [
    "input_filepath = \"../../../data/POM/imgs/crack.jpeg\""
   ]
  },
  {
   "cell_type": "code",
   "execution_count": null,
   "metadata": {},
   "outputs": [],
   "source": [
    "binary_img = img_to_binary(input_filepath, 90)"
   ]
  },
  {
   "cell_type": "code",
   "execution_count": null,
   "metadata": {},
   "outputs": [],
   "source": [
    "plt.rcParams[\"axes.labelsize\"] = 25\n",
    "plt.rcParams[\"axes.titlesize\"] = 20\n",
    "plt.rcParams[\"axes.linewidth\"] = 1\n",
    "plt.rcParams[\"axes.titlepad\"] = 25\n",
    "plt.rcParams[\"axes.labelpad\"] = 10\n",
    "plt.rc(\"xtick.major\", width=2, size=5, pad=10)\n",
    "plt.rc(\"ytick.major\", width=2, size=5, pad=10)\n",
    "plt.rc(\"xtick\", labelsize=15, direction=\"out\")\n",
    "plt.rc(\"ytick\", labelsize=15, direction=\"out\")"
   ]
  },
  {
   "cell_type": "code",
   "execution_count": null,
   "metadata": {},
   "outputs": [],
   "source": [
    "def binary_img_graph():\n",
    "    fig, ax = plt.subplots()\n",
    "\n",
    "    ax.imshow(binary_img, cmap=\"gray\")\n",
    "    ax.set_title(\"crack POM image\")\n",
    "    ax.set_xlabel(\"$X$\")\n",
    "    ax.set_ylabel(\"$Y$\")\n",
    "    ax.set_xlim(0, binary_img.shape[1])\n",
    "    ax.set_ylim(binary_img.shape[0], 0)\n",
    "\n",
    "    return plt\n",
    "\n",
    "\n",
    "binary_img_graph()"
   ]
  }
 ],
 "metadata": {
  "kernelspec": {
   "display_name": "Python 3",
   "language": "python",
   "name": "python3"
  },
  "language_info": {
   "codemirror_mode": {
    "name": "ipython",
    "version": 3
   },
   "file_extension": ".py",
   "mimetype": "text/x-python",
   "name": "python",
   "nbconvert_exporter": "python",
   "pygments_lexer": "ipython3",
   "version": "3.12.2"
  }
 },
 "nbformat": 4,
 "nbformat_minor": 2
}
