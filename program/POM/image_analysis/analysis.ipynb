{
 "cells": [
  {
   "cell_type": "code",
   "execution_count": null,
   "metadata": {},
   "outputs": [],
   "source": [
    "import cv2\n",
    "import matplotlib.pyplot as plt\n",
    "from binary import img_to_binary"
   ]
  },
  {
   "cell_type": "code",
   "execution_count": null,
   "metadata": {},
   "outputs": [],
   "source": [
    "plt.rcParams[\"axes.labelsize\"] = 25\n",
    "plt.rcParams[\"axes.titlesize\"] = 20\n",
    "plt.rcParams[\"axes.linewidth\"] = 1\n",
    "plt.rcParams[\"axes.titlepad\"] = 25\n",
    "plt.rcParams[\"axes.labelpad\"] = 10\n",
    "plt.rc(\"xtick.major\", width=2, size=5, pad=10)\n",
    "plt.rc(\"ytick.major\", width=2, size=5, pad=10)\n",
    "plt.rc(\"xtick\", labelsize=15, direction=\"out\")\n",
    "plt.rc(\"ytick\", labelsize=15, direction=\"out\")"
   ]
  },
  {
   "cell_type": "code",
   "execution_count": null,
   "metadata": {},
   "outputs": [],
   "source": [
    "input_filepath = \"../../../data/POM/imgs/crack.jpeg\""
   ]
  },
  {
   "cell_type": "code",
   "execution_count": null,
   "metadata": {},
   "outputs": [],
   "source": [
    "binary_img = img_to_binary(input_filepath, 70)"
   ]
  },
  {
   "cell_type": "code",
   "execution_count": null,
   "metadata": {},
   "outputs": [],
   "source": [
    "# クラック画像を二値化表示\n",
    "def show_img(img, title):\n",
    "    fig, ax = plt.subplots()\n",
    "\n",
    "    ax.imshow(img, cmap=\"gray\")\n",
    "    ax.set_title(title)\n",
    "    ax.set_xlabel(\"$X$\")\n",
    "    ax.set_ylabel(\"$Y$\")\n",
    "    ax.set_xlim(0, img.shape[1])\n",
    "    ax.set_ylim(img.shape[0], 0)\n",
    "    fig.show()\n",
    "\n",
    "    return\n",
    "\n",
    "\n",
    "show_img(binary_img, \"crack binary image\")"
   ]
  },
  {
   "cell_type": "code",
   "execution_count": null,
   "metadata": {},
   "outputs": [],
   "source": [
    "# クラック画像のエッジ検出\n",
    "edge_img = cv2.Canny(binary_img, threshold1=100, threshold2=255)\n",
    "\n",
    "show_img(edge_img, \"crack binary image\")"
   ]
  },
  {
   "cell_type": "code",
   "execution_count": null,
   "metadata": {},
   "outputs": [],
   "source": [
    "# クラック画像のエッジの輪郭を抽出\n",
    "contours, _ = cv2.findContours(edge_img, cv2.RETR_EXTERNAL, cv2.CHAIN_APPROX_SIMPLE)\n",
    "\n",
    "print(\"contours :\", len(contours))"
   ]
  },
  {
   "cell_type": "code",
   "execution_count": null,
   "metadata": {},
   "outputs": [],
   "source": [
    "# 輪郭を閾値でわける\n",
    "threshold = 35\n",
    "filtered_contours = [cnt for cnt in contours if len(cnt) > threshold]\n",
    "\n",
    "print(\"filtered_contours :\", len(filtered_contours))"
   ]
  },
  {
   "cell_type": "code",
   "execution_count": null,
   "metadata": {},
   "outputs": [],
   "source": [
    "# 画像の足し合わせ\n",
    "def get_added_contours_img(filtered_contours, edge_img):\n",
    "    base_img = cv2.cvtColor(edge_img, cv2.COLOR_GRAY2RGB)\n",
    "    # それぞれの輪郭を描画した画像のリスト\n",
    "    contour_imgs = []\n",
    "    for i in range(len((filtered_contours))):\n",
    "        contour_img = cv2.drawContours(\n",
    "            base_img,\n",
    "            filtered_contours,  # 輪郭を保存したリスト\n",
    "            i,  # リストの何番目か\n",
    "            (255, 255, 255),  # 白\n",
    "            10,  # 線の太さ\n",
    "        )\n",
    "\n",
    "        contour_imgs.append(contour_img)\n",
    "    # リストの最初の画像に他の画像を足し合わせる\n",
    "    added_img = contour_imgs[0]\n",
    "    for contour_img in contour_imgs[1:]:\n",
    "        added_img = cv2.add(added_img, contour_img)\n",
    "\n",
    "    return added_img\n",
    "\n",
    "\n",
    "added_img = get_added_contours_img(filtered_contours, edge_img)\n",
    "show_img(added_img, \"crack edge image\")"
   ]
  }
 ],
 "metadata": {
  "kernelspec": {
   "display_name": "Python 3",
   "language": "python",
   "name": "python3"
  },
  "language_info": {
   "codemirror_mode": {
    "name": "ipython",
    "version": 3
   },
   "file_extension": ".py",
   "mimetype": "text/x-python",
   "name": "python",
   "nbconvert_exporter": "python",
   "pygments_lexer": "ipython3",
   "version": "3.12.2"
  }
 },
 "nbformat": 4,
 "nbformat_minor": 2
}
