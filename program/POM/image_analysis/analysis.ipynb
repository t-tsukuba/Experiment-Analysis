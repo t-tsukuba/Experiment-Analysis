{
 "cells": [
  {
   "cell_type": "code",
   "execution_count": null,
   "metadata": {},
   "outputs": [],
   "source": [
    "import matplotlib.pyplot as plt\n",
    "from binary import img_to_binary\n",
    "from add_contours import get_highlight_edge_img"
   ]
  },
  {
   "cell_type": "code",
   "execution_count": null,
   "metadata": {},
   "outputs": [],
   "source": [
    "plt.rcParams[\"axes.labelsize\"] = 25\n",
    "plt.rcParams[\"axes.titlesize\"] = 20\n",
    "plt.rcParams[\"axes.linewidth\"] = 1\n",
    "plt.rcParams[\"axes.titlepad\"] = 25\n",
    "plt.rcParams[\"axes.labelpad\"] = 10\n",
    "plt.rc(\"xtick.major\", width=2, size=5, pad=10)\n",
    "plt.rc(\"ytick.major\", width=2, size=5, pad=10)\n",
    "plt.rc(\"xtick\", labelsize=15, direction=\"out\")\n",
    "plt.rc(\"ytick\", labelsize=15, direction=\"out\")"
   ]
  },
  {
   "cell_type": "code",
   "execution_count": null,
   "metadata": {},
   "outputs": [],
   "source": [
    "def show_img(img, title):\n",
    "    fig, ax = plt.subplots()\n",
    "\n",
    "    ax.imshow(img, cmap=\"gray\")\n",
    "    ax.set_title(title)\n",
    "    ax.set_xlabel(\"$X$\")\n",
    "    ax.set_ylabel(\"$Y$\")\n",
    "    ax.set_xlim(0, img.shape[1])\n",
    "    ax.set_ylim(img.shape[0], 0)\n",
    "    fig.show()\n",
    "\n",
    "    return"
   ]
  },
  {
   "cell_type": "code",
   "execution_count": null,
   "metadata": {},
   "outputs": [],
   "source": [
    "input_filepath = \"../../../data/POM/imgs/crack.jpeg\""
   ]
  },
  {
   "cell_type": "code",
   "execution_count": null,
   "metadata": {},
   "outputs": [],
   "source": [
    "binary_img = img_to_binary(input_filepath, threshold=70)"
   ]
  },
  {
   "cell_type": "code",
   "execution_count": null,
   "metadata": {},
   "outputs": [],
   "source": [
    "show_img(binary_img, title=\"crack binary image\")"
   ]
  },
  {
   "cell_type": "code",
   "execution_count": null,
   "metadata": {},
   "outputs": [],
   "source": [
    "highlight_edge_img = get_highlight_edge_img(\n",
    "    binary_img, min_contour_size=0, line_width=10\n",
    ")\n",
    "show_img(highlight_edge_img, title=\"crack highlight edge image\")"
   ]
  }
 ],
 "metadata": {
  "kernelspec": {
   "display_name": "Python 3",
   "language": "python",
   "name": "python3"
  },
  "language_info": {
   "codemirror_mode": {
    "name": "ipython",
    "version": 3
   },
   "file_extension": ".py",
   "mimetype": "text/x-python",
   "name": "python",
   "nbconvert_exporter": "python",
   "pygments_lexer": "ipython3",
   "version": "3.12.2"
  }
 },
 "nbformat": 4,
 "nbformat_minor": 2
}
