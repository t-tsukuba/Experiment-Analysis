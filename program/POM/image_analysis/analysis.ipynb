{
 "cells": [
  {
   "cell_type": "code",
   "execution_count": null,
   "metadata": {},
   "outputs": [],
   "source": [
    "import matplotlib.pyplot as plt\n",
    "from grayscale import img_to_grayscasle"
   ]
  },
  {
   "cell_type": "code",
   "execution_count": null,
   "metadata": {},
   "outputs": [],
   "source": [
    "input_filepath = \"../../../data/POM/imgs/crack.jpeg\""
   ]
  },
  {
   "cell_type": "code",
   "execution_count": null,
   "metadata": {},
   "outputs": [],
   "source": [
    "grayscale_img = img_to_grayscasle(input_filepath)"
   ]
  },
  {
   "cell_type": "code",
   "execution_count": null,
   "metadata": {},
   "outputs": [],
   "source": [
    "plt.rcParams[\"axes.labelsize\"] = 25\n",
    "plt.rcParams[\"axes.titlesize\"] = 20\n",
    "plt.rcParams[\"axes.linewidth\"] = 1\n",
    "plt.rcParams[\"axes.titlepad\"] = 25\n",
    "plt.rcParams[\"axes.labelpad\"] = 10\n",
    "plt.rc(\"xtick.major\", width=2, size=5, pad=10)\n",
    "plt.rc(\"ytick.major\", width=2, size=5, pad=10)\n",
    "plt.rc(\"xtick\", labelsize=15, direction=\"out\")\n",
    "plt.rc(\"ytick\", labelsize=15, direction=\"out\")\n",
    "\n",
    "fig, ax = plt.subplots()\n",
    "\n",
    "ax.imshow(grayscale_img, cmap=\"gray\")\n",
    "ax.set_title(\"crack POM image\")\n",
    "ax.set_xlabel(\"$X$\")\n",
    "ax.set_ylabel(\"$Y$\")\n",
    "ax.set_xlim(0, grayscale_img.shape[1])\n",
    "ax.set_ylim(grayscale_img.shape[0], 0)"
   ]
  }
 ],
 "metadata": {
  "kernelspec": {
   "display_name": "Python 3",
   "language": "python",
   "name": "python3"
  },
  "language_info": {
   "codemirror_mode": {
    "name": "ipython",
    "version": 3
   },
   "file_extension": ".py",
   "mimetype": "text/x-python",
   "name": "python",
   "nbconvert_exporter": "python",
   "pygments_lexer": "ipython3",
   "version": "3.12.2"
  }
 },
 "nbformat": 4,
 "nbformat_minor": 2
}
