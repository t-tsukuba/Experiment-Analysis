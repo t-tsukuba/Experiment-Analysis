{
 "cells": [
  {
   "cell_type": "code",
   "execution_count": null,
   "metadata": {},
   "outputs": [],
   "source": [
    "import cv2\n",
    "import matplotlib.pyplot as plt\n",
    "from binary import img_to_binary"
   ]
  },
  {
   "cell_type": "code",
   "execution_count": null,
   "metadata": {},
   "outputs": [],
   "source": [
    "plt.rcParams[\"axes.labelsize\"] = 25\n",
    "plt.rcParams[\"axes.titlesize\"] = 20\n",
    "plt.rcParams[\"axes.linewidth\"] = 1\n",
    "plt.rcParams[\"axes.titlepad\"] = 25\n",
    "plt.rcParams[\"axes.labelpad\"] = 10\n",
    "plt.rc(\"xtick.major\", width=2, size=5, pad=10)\n",
    "plt.rc(\"ytick.major\", width=2, size=5, pad=10)\n",
    "plt.rc(\"xtick\", labelsize=15, direction=\"out\")\n",
    "plt.rc(\"ytick\", labelsize=15, direction=\"out\")"
   ]
  },
  {
   "cell_type": "code",
   "execution_count": null,
   "metadata": {},
   "outputs": [],
   "source": [
    "input_filepath = \"../../../data/POM/imgs/crack.jpeg\""
   ]
  },
  {
   "cell_type": "code",
   "execution_count": null,
   "metadata": {},
   "outputs": [],
   "source": [
    "binary_img = img_to_binary(input_filepath, 90)"
   ]
  },
  {
   "cell_type": "code",
   "execution_count": null,
   "metadata": {},
   "outputs": [],
   "source": [
    "# クラック画像を二値化表示\n",
    "def crack_binary_img(binary_data):\n",
    "    fig, ax = plt.subplots()\n",
    "\n",
    "    ax.imshow(binary_data, cmap=\"gray\")\n",
    "    ax.set_title(\"crack binary image\")\n",
    "    ax.set_xlabel(\"$X$\")\n",
    "    ax.set_ylabel(\"$Y$\")\n",
    "    ax.set_xlim(0, binary_img.shape[1])\n",
    "    ax.set_ylim(binary_img.shape[0], 0)\n",
    "\n",
    "    return binary_data\n",
    "\n",
    "\n",
    "crack_binary_img(binary_img)"
   ]
  },
  {
   "cell_type": "code",
   "execution_count": null,
   "metadata": {},
   "outputs": [],
   "source": [
    "# クラック画像のエッジ検出\n",
    "def crack_img_edge_detect(binary_data):\n",
    "    edge_detect_img = cv2.Canny(binary_data, threshold1=100, threshold2=255)\n",
    "    fig, ax = plt.subplots()\n",
    "\n",
    "    ax.imshow(edge_detect_img, cmap=\"gray\")\n",
    "    ax.set_title(\"crack edge detection image\")\n",
    "    ax.set_xlabel(\"$X$\")\n",
    "    ax.set_ylabel(\"$Y$\")\n",
    "    ax.set_xlim(0, binary_img.shape[1])\n",
    "    ax.set_ylim(binary_img.shape[0], 0)\n",
    "\n",
    "    return edge_detect_img\n",
    "\n",
    "\n",
    "crack_img_edge_detect(binary_img)"
   ]
  },
  {
   "cell_type": "code",
   "execution_count": null,
   "metadata": {},
   "outputs": [],
   "source": [
    "# クラック画像のエッジの輪郭を抽出\n",
    "def edge_count_contours(binary_data):\n",
    "    edge_detect_img = crack_img_edge_detect(binary_data)\n",
    "\n",
    "    contours, _ = cv2.findContours(\n",
    "        edge_detect_img.copy(), cv2.RETR_EXTERNAL, cv2.CHAIN_APPROX_SIMPLE\n",
    "    )\n",
    "\n",
    "    count_contours = cv2.drawContours(binary_img, contours, -1, (0, 255, 0), 2)\n",
    "\n",
    "    return contours, count_contours\n",
    "\n",
    "\n",
    "edge_count_contours(binary_img)"
   ]
  },
  {
   "cell_type": "code",
   "execution_count": null,
   "metadata": {},
   "outputs": [],
   "source": [
    "# 抽出した輪郭数を表示\n",
    "edge_detect_img = cv2.Canny(binary_img, 100, 255)\n",
    "contours, hierachy = cv2.findContours(\n",
    "    edge_detect_img, cv2.RETR_EXTERNAL, cv2.CHAIN_APPROX_SIMPLE\n",
    ")\n",
    "\n",
    "print(\"contours :\", len(contours))"
   ]
  },
  {
   "cell_type": "code",
   "execution_count": null,
   "metadata": {},
   "outputs": [],
   "source": [
    "# 輪郭を閾値でわける\n",
    "filtered_contours = [cnt for cnt in contours if len(cnt) > 35]\n",
    "\n",
    "print(\"filtered_contours :\", len(filtered_contours))"
   ]
  },
  {
   "cell_type": "code",
   "execution_count": null,
   "metadata": {},
   "outputs": [],
   "source": [
    "# 画像の足し合わせ\n",
    "fig, ax = plt.subplots(1, 1, sharex=True, sharey=True, figsize=(8, 8))\n",
    "\n",
    "img = edge_detect_img\n",
    "\n",
    "edge_list = []\n",
    "for i in range(len(filtered_contours)):\n",
    "    img = cv2.drawContours(\n",
    "        cv2.cvtColor(edge_detect_img, cv2.COLOR_GRAY2RGB),\n",
    "        filtered_contours,  # 輪郭を保存したリスト\n",
    "        i,  # リストの何番目か\n",
    "        (255, 255, 255),  # 白\n",
    "        10,  # 線の太さ\n",
    "    )\n",
    "\n",
    "    edge_list.append(img)\n",
    "\n",
    "img = edge_list[0]\n",
    "for i in range(len(edge_list) - 1):\n",
    "    img = cv2.add(img, edge_list[i + 1])\n",
    "\n",
    "ax.imshow(img)\n",
    "ax.set_title(\"added edge detect image contour{}\".format(i))\n",
    "ax.set_xlabel(\"$X$\")\n",
    "ax.set_ylabel(\"$Y$\")\n",
    "ax.set_xlim(0, binary_img.shape[1])\n",
    "ax.set_ylim(binary_img.shape[0], 0)\n",
    "\n",
    "plt.tight_layout()\n",
    "plt.show()"
   ]
  },
  {
   "cell_type": "code",
   "execution_count": null,
   "metadata": {},
   "outputs": [],
   "source": [
    "edge = cv2.Canny(img, 100, 255)\n",
    "\n",
    "fig, ax = plt.subplots(1, 2, figsize=(20, 20), sharex=True, sharey=True)\n",
    "ax[0].imshow(img, cmap=\"gray\")\n",
    "ax[0].set_title(\"orginal\")\n",
    "ax[1].imshow(edge, cmap=\"gray\")\n",
    "ax[1].set_title(\"edged\")\n",
    "ax[0].set_xticks([])\n",
    "ax[0].set_yticks([])\n",
    "plt.show()"
   ]
  },
  {
   "cell_type": "markdown",
   "metadata": {},
   "source": [
    "# やったこと\n",
    "\n",
    "画像を二値化\n",
    "\n",
    "Canny法でエッジを検出\n",
    "\n",
    "輪郭の抽出\n",
    "\n",
    "# 結果\n",
    "\n",
    "1つのクラックに対して輪郭を複数検出した\n",
    "\n",
    "# 原因と考えられるもの\n",
    "\n",
    "クラックの画像が線として認識されなかった\n",
    "\n",
    "クラック画像が複雑である\n",
    "\n",
    "\n",
    "\n",
    "# 予想される解決策\n",
    "\n"
   ]
  },
  {
   "cell_type": "markdown",
   "metadata": {},
   "source": [
    "# クラック画像が連続的な線であるかどうか\n",
    "\n",
    "エッジ検出画像を拡大した結果、クラックのエッジが白っぽくなっていたため、クラックは連続的に検出されていたが白黒だけでなくグレーでエッジが出力されていた\n",
    "\n",
    "明るくハイライトされたクラックのエッジ部分の暗い部分でクラックの線の輪郭が途切れたと考えられる\n",
    "\n",
    "# 問題の解決策\n",
    "\n",
    "エッジ検出画像の暗い部分を明るく表示するために二値化画像に変換してみる"
   ]
  }
 ],
 "metadata": {
  "kernelspec": {
   "display_name": "Python 3",
   "language": "python",
   "name": "python3"
  },
  "language_info": {
   "codemirror_mode": {
    "name": "ipython",
    "version": 3
   },
   "file_extension": ".py",
   "mimetype": "text/x-python",
   "name": "python",
   "nbconvert_exporter": "python",
   "pygments_lexer": "ipython3",
   "version": "3.12.2"
  }
 },
 "nbformat": 4,
 "nbformat_minor": 2
}
