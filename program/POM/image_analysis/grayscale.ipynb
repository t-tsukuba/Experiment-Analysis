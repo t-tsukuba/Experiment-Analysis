{
 "cells": [
  {
   "cell_type": "code",
   "execution_count": null,
   "metadata": {},
   "outputs": [],
   "source": [
    "import cv2\n",
    "import matplotlib.pyplot as plt"
   ]
  },
  {
   "cell_type": "code",
   "execution_count": null,
   "metadata": {},
   "outputs": [],
   "source": [
    "plt.rcParams[\"axes.labelsize\"] = 25\n",
    "plt.rcParams[\"axes.titlesize\"] = 20\n",
    "plt.rcParams[\"axes.linewidth\"] = 1\n",
    "plt.rcParams[\"axes.titlepad\"] = 25\n",
    "plt.rcParams[\"axes.labelpad\"] = 10\n",
    "plt.rc(\"xtick.major\", width=2, size=5, pad=10)\n",
    "plt.rc(\"ytick.major\", width=2, size=5, pad=10)\n",
    "plt.rc(\"xtick\", labelsize=15, direction=\"out\")\n",
    "plt.rc(\"ytick\", labelsize=15, direction=\"out\")"
   ]
  },
  {
   "cell_type": "code",
   "execution_count": null,
   "metadata": {},
   "outputs": [],
   "source": [
    "input_file = (\n",
    "    \"/workspaces/python-dev/project/Experiment-Analysis/data/POM/imgs/crack.jpeg\"\n",
    ")\n",
    "outputfile = \"/workspaces/python-dev/project/Experiment-Analysis/Python/Image_analysis/crack_grayscale.jpeg\"\n",
    "\n",
    "src = cv2.imread(input_file)\n",
    "\n",
    "# grayscale\n",
    "\n",
    "cvtcolor_result = cv2.cvtColor(src, cv2.COLOR_BGR2GRAY)\n",
    "cv2.imwrite(\n",
    "    outputfile,\n",
    "    cvtcolor_result,\n",
    ")\n",
    "\n",
    "# ----------------------------------------\n",
    "# graph(1920x2560)\n",
    "fig, ax = plt.subplots()\n",
    "\n",
    "ax.imshow(cvtcolor_result, cmap=\"gray\")\n",
    "# ax.axis(\"off\")\n",
    "ax.set_title(\"Grayscale image\")\n",
    "ax.set_xlabel(\"$X$\")\n",
    "ax.set_ylabel(\"$Y$\")\n",
    "ax.set_xlim(0, cvtcolor_result.shape[1])\n",
    "ax.set_ylim(cvtcolor_result.shape[0], 0)\n",
    "# ax.invert_yaxis()\n",
    "\n",
    "\n",
    "# ----------------------------------------\n",
    "# 行列表示(重い)\n",
    "# np.set_printoptions(threshold=np.inf, linewidth=np.inf)\n",
    "# print(\"Matrix_shape:\", cvtcolor_result.shape)\n",
    "# print(\"Matrix_content:\")\n",
    "# print(cvtcolor_result)"
   ]
  }
 ],
 "metadata": {
  "kernelspec": {
   "display_name": "Python 3",
   "language": "python",
   "name": "python3"
  },
  "language_info": {
   "codemirror_mode": {
    "name": "ipython",
    "version": 3
   },
   "file_extension": ".py",
   "mimetype": "text/x-python",
   "name": "python",
   "nbconvert_exporter": "python",
   "pygments_lexer": "ipython3",
   "version": "3.12.2"
  }
 },
 "nbformat": 4,
 "nbformat_minor": 2
}
